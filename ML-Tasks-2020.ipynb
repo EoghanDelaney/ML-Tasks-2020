{
 "cells": [
  {
   "cell_type": "markdown",
   "metadata": {},
   "source": [
    "# Machine Learning Tasks 2020"
   ]
  },
  {
   "cell_type": "markdown",
   "metadata": {},
   "source": [
    "# 1. sqrt2"
   ]
  },
  {
   "cell_type": "markdown",
   "metadata": {},
   "source": [
    "The task proposed is to use python to calculate the square root of two, without the aid of any maths libraries in python.\n",
    "\n",
    "In order to get the square root of a number, we must first look at calculating a numbers square or multiplying itself by itself e.g. 3x3. The square of a number is followed by the number to the power of three and so on. \n",
    "\n",
    "Therefor if we look at the square root of a number, the number is the end goal e.g. Square root of 25. We can look at it as X multiplied by X gets 25 - X^2 is 25. [2] When two numbers with exponents (numbers to the power of something) are multiplied we add the exponents to get the result shown below: "
   ]
  },
  {
   "attachments": {
    "exp_plus.PNG": {
     "image/png": "[encoded data removed]"
    }
   },
   "cell_type": "markdown",
   "metadata": {},
   "source": [
    "![exp_plus.PNG](attachment:exp_plus.PNG)"
   ]
  },
  {
   "cell_type": "markdown",
   "metadata": {},
   "source": [
    "<em> image taken from rapidtables [1]</em>"
   ]
  },
  {
   "cell_type": "markdown",
   "metadata": {},
   "source": [
    "Therefore in this example \"n+m=1\", \"a = 25\". \"n\" and \"m\" must both equal \"0.5\" as they must add up to one. We can now write a function X to the power of a half will give us the square meters of a number."
   ]
  },
  {
   "cell_type": "markdown",
   "metadata": {},
   "source": [
    "##### Use the python Library to determine the Square Root of 2"
   ]
  },
  {
   "cell_type": "code",
   "execution_count": 2,
   "metadata": {},
   "outputs": [],
   "source": [
    "import math"
   ]
  },
  {
   "cell_type": "code",
   "execution_count": 3,
   "metadata": {},
   "outputs": [
    {
     "data": {
      "text/plain": [
       "1.4142135623730951"
      ]
     },
     "execution_count": 3,
     "metadata": {},
     "output_type": "execute_result"
    }
   ],
   "source": [
    "math.sqrt(2)"
   ]
  },
  {
   "cell_type": "markdown",
   "metadata": {},
   "source": [
    "This was not the task nor dose it extend the number to 100 decimal places."
   ]
  },
  {
   "cell_type": "markdown",
   "metadata": {},
   "source": [
    "The first attempt consisted of the below code. Where we declared a function and requested the output to 100 decimal places."
   ]
  },
  {
   "cell_type": "code",
   "execution_count": 17,
   "metadata": {},
   "outputs": [],
   "source": [
    "def sqr2(num):\n",
    "    x = format(num**0.5, ',.100f') # [2] Code adapted from codegrepper\n",
    "    return x\n"
   ]
  },
  {
   "cell_type": "code",
   "execution_count": 11,
   "metadata": {
    "scrolled": true
   },
   "outputs": [
    {
     "data": {
      "text/plain": [
       "'1.4142135623730951454746218587388284504413604736328125000000000000000000000000000000000000000000000000'"
      ]
     },
     "execution_count": 11,
     "metadata": {},
     "output_type": "execute_result"
    }
   ],
   "source": [
    "sqr2(2)"
   ]
  },
  {
   "cell_type": "markdown",
   "metadata": {},
   "source": [
    "The number is nearer the end goal, however we have not achieved the 100 decimal places. We know this is incorrect as NASA [3] has calculated the square root of two to a least one million digits. The square root of two is an irrational number, which means it has infinite decimal places TechTerms refers to is as **\"An irrational number is real number that cannot be expressed as a ratio of two integers\"**. Therefore there is no pattern in the preceding decimal. "
   ]
  },
  {
   "cell_type": "markdown",
   "metadata": {},
   "source": [
    "The error shown above is down to how Python treats floating point numbers. Below are two examples of how decimal numbers are stored in Python, both numbers are declared as floating points with one decimal place. Python stores the 0.2 decimal with further additional digits."
   ]
  },
  {
   "cell_type": "code",
   "execution_count": 19,
   "metadata": {},
   "outputs": [
    {
     "name": "stdout",
     "output_type": "stream",
     "text": [
      "1.50000000000000000000000000000000000000000000000000\n",
      "0.20000000000000001110223024625156540423631668090820\n",
      "0.30000000000000004440892098500626161694526672363281\n"
     ]
    }
   ],
   "source": [
    "print(format(1.5,',.50f'))\n",
    "print(format(0.2,',.50f'))\n",
    "print(format(0.1 + 0.1 + 0.1,',.50f'))"
   ]
  },
  {
   "cell_type": "markdown",
   "metadata": {},
   "source": [
    "The calculation therefore for the above listed <em>\"sqr2\"</em> has not stored the decimal in the correct fashion. We can progress further an"
   ]
  },
  {
   "cell_type": "markdown",
   "metadata": {},
   "source": [
    "# This section to be complete!"
   ]
  },
  {
   "cell_type": "markdown",
   "metadata": {},
   "source": [
    "1. https://www.rapidtables.com/math/number/exponent/multiplying-exponents.html\n",
    "2. https://www.codegrepper.com/code-examples/delphi/Limiting+floats+to+100+decimal+points+python\n",
    "3. https://apod.nasa.gov/htmltest/gifcity/sqrt2.1mil\n",
    "4. https://techterms.com/definition/irrational_number\n",
    "5. https://docs.python.org/3/tutorial/floatingpoint.html"
   ]
  },
  {
   "cell_type": "markdown",
   "metadata": {},
   "source": [
    "# 2. Chi-squared"
   ]
  },
  {
   "cell_type": "markdown",
   "metadata": {},
   "source": [
    "Investopedia defines the Chi-squared test as <em>\"A chi-square (χ2) statistic is a test that measures how a model compares to actual observed data.\"</em>"
   ]
  },
  {
   "cell_type": "markdown",
   "metadata": {},
   "source": [
    "|              | A   | B   | C   | D   | total |\n",
    "| :----------- | --- | --- | --- | --- | ----- |\n",
    "| White collar | 90  | 60  | 104 | 95  | 349   |\n",
    "| Blue collar  | 30  | 50  | 51  | 20  | 151   |\n",
    "| No collar    | 30  | 40  | 45  | 35  | 150   |\n",
    "| Total        | 150 | 150 | 200 | 150 | 650   |\n"
   ]
  },
  {
   "cell_type": "code",
   "execution_count": 53,
   "metadata": {},
   "outputs": [],
   "source": [
    "# The following code was modified from the below link\n",
    "# https://towardsdatascience.com/chi-squared-test-for-feature-selection-with-implementation-in-python-65b4ae7696db\n",
    "from scipy.stats import chi2_contingency "
   ]
  },
  {
   "cell_type": "code",
   "execution_count": 48,
   "metadata": {},
   "outputs": [],
   "source": [
    "# The table information converted to Lists\n",
    "white_col = [90,60,104,95]\n",
    "blue_col = [30,50,51,20]\n",
    "no_col = [30,40,45,35]"
   ]
  },
  {
   "cell_type": "code",
   "execution_count": 49,
   "metadata": {},
   "outputs": [],
   "source": [
    "\n",
    "data = [white_col,blue_col,no_col]"
   ]
  },
  {
   "cell_type": "code",
   "execution_count": 50,
   "metadata": {},
   "outputs": [],
   "source": [
    "stat, p, dof, expected = chi2_contingency(data)"
   ]
  },
  {
   "cell_type": "code",
   "execution_count": 51,
   "metadata": {},
   "outputs": [
    {
     "name": "stdout",
     "output_type": "stream",
     "text": [
      "Degres if Freedom: 6\n",
      "0.0004098425861096696\n",
      "24.5712028585826\n",
      "[[ 80.53846154  80.53846154 107.38461538  80.53846154]\n",
      " [ 34.84615385  34.84615385  46.46153846  34.84615385]\n",
      " [ 34.61538462  34.61538462  46.15384615  34.61538462]]\n"
     ]
    }
   ],
   "source": [
    "print(\"Degres if Freedom:\", dof)\n",
    "print(p)\n",
    "print(stat)\n",
    "print(expected)"
   ]
  },
  {
   "cell_type": "code",
   "execution_count": 52,
   "metadata": {},
   "outputs": [
    {
     "name": "stdout",
     "output_type": "stream",
     "text": [
      "p value is 0.0004098425861096696\n",
      "Dependent (reject H0)\n"
     ]
    }
   ],
   "source": [
    "alpha = 0.05\n",
    "print(\"p value is \" + str(p)) \n",
    "if p <= alpha: \n",
    "    print('Dependent (reject H0)') \n",
    "else: \n",
    "    print('Independent (H0 holds true)') "
   ]
  },
  {
   "cell_type": "markdown",
   "metadata": {},
   "source": [
    "1. https://www.investopedia.com/terms/c/chi-square-statistic.asp\n",
    "2. https://docs.scipy.org/doc/scipy/reference/generated/scipy.stats.chisquare.html\n",
    "3. "
   ]
  },
  {
   "cell_type": "code",
   "execution_count": null,
   "metadata": {},
   "outputs": [],
   "source": []
  }
 ],
 "metadata": {
  "kernelspec": {
   "display_name": "Python 3",
   "language": "python",
   "name": "python3"
  },
  "language_info": {
   "codemirror_mode": {
    "name": "ipython",
    "version": 3
   },
   "file_extension": ".py",
   "mimetype": "text/x-python",
   "name": "python",
   "nbconvert_exporter": "python",
   "pygments_lexer": "ipython3",
   "version": "3.7.1"
  }
 },
 "nbformat": 4,
 "nbformat_minor": 2
}
